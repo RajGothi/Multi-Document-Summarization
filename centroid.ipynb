{
 "cells": [
  {
   "cell_type": "code",
   "execution_count": null,
   "id": "01a9918f",
   "metadata": {},
   "outputs": [],
   "source": []
  },
  {
   "cell_type": "code",
   "execution_count": 7,
   "id": "8e5e8f37",
   "metadata": {},
   "outputs": [],
   "source": [
    "import numpy as np\n",
    "from sklearn.feature_extraction.text import TfidfTransformer\n",
    "from sklearn.feature_extraction.text import CountVectorizer\n",
    "from scipy.spatial.distance import cosine\n",
    "\n",
    "class centre_bow(object):\n",
    "    def __init__(self, lim=250, thresh=0.3, thresh_sim=0.95, type_lim='word'):\n",
    "        self.limit = lim\n",
    "        self.topic_threshold = thresh\n",
    "        self.sim_threshold = thresh_sim\n",
    "        self.limit_type = type_lim\n",
    "\n",
    "\n",
    "    def start_summary(self, sen_raw, sen_clean, len_lim):\n",
    "        vectorizer = CountVectorizer(stop_words='english')\n",
    "        word_mat_sent = vectorizer.fit_transform(sen_clean)\n",
    "\n",
    "        my_transformer = TfidfTransformer(norm=None, sublinear_tf=False, smooth_idf=False)\n",
    "        tf_idf = my_transformer.fit_transform(word_mat_sent)\n",
    "        tf_idf = tf_idf.toarray()\n",
    "\n",
    "        centrvec1 = tf_idf.sum(0)\n",
    "        centrvec1 = np.divide(centrvec1, centrvec1.max())\n",
    "        for i in range(centrvec1.shape[0]):\n",
    "            if centrvec1[i] <= self.topic_threshold:\n",
    "                centrvec1[i] = 0\n",
    "\n",
    "        score_counts = []\n",
    "        for i in range(tf_idf.shape[0]):\n",
    "            score = self.get_similarity(tf_idf[i, :], centrvec1)\n",
    "            score_counts.append((i, sen_raw[i], score, tf_idf[i, :]))\n",
    "\n",
    "        sorted_scores = sorted(score_counts, key=lambda el: el[2], reverse=True)\n",
    "\n",
    "        new_summaries = []\n",
    "\n",
    "        for s in sorted_scores:\n",
    "            if len(new_summaries) == len_lim:\n",
    "                break\n",
    "            include_flag = True\n",
    "            for ps in new_summaries:\n",
    "                sim = centre_bow().get_similarity(s[3], ps[3])\n",
    "\n",
    "                if sim > centre_bow().sim_threshold:\n",
    "                    include_flag = False\n",
    "            if include_flag:\n",
    "                new_summaries.append(s)\n",
    "        \n",
    "        results = []\n",
    "        for item in new_summaries:\n",
    "            results.append(item[1])\n",
    "        return results\n",
    "\n",
    "    @staticmethod\n",
    "    def get_similarity(v1, v2):\n",
    "        current_score = 0.0\n",
    "        if np.count_nonzero(v1) != 0 and np.count_nonzero(v2) != 0:\n",
    "            current_score = ((1 - cosine(v1, v2)) + 1) / 2\n",
    "        return current_score"
   ]
  },
  {
   "cell_type": "code",
   "execution_count": null,
   "id": "4f0831cc",
   "metadata": {},
   "outputs": [],
   "source": []
  }
 ],
 "metadata": {
  "kernelspec": {
   "display_name": "Python 3 (ipykernel)",
   "language": "python",
   "name": "python3"
  },
  "language_info": {
   "codemirror_mode": {
    "name": "ipython",
    "version": 3
   },
   "file_extension": ".py",
   "mimetype": "text/x-python",
   "name": "python",
   "nbconvert_exporter": "python",
   "pygments_lexer": "ipython3",
   "version": "3.8.10"
  },
  "vscode": {
   "interpreter": {
    "hash": "916dbcbb3f70747c44a77c7bcd40155683ae19c65e1c03b4aa3499c5328201f1"
   }
  }
 },
 "nbformat": 4,
 "nbformat_minor": 5
}
