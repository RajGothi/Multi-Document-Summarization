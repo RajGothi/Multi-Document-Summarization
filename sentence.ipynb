{
 "cells": [
  {
   "cell_type": "code",
   "execution_count": 1,
   "metadata": {
    "id": "RW1ZqA26wXpZ"
   },
   "outputs": [],
   "source": [
    "class Sentence(object):\n",
    "    def __init__(self, name_of_doc, stemmed_words, Original_words):\n",
    "        self.stemmed_words = stemmed_words\n",
    "        self.name_of_doc = name_of_doc\n",
    "        self.Original_word = Original_words\n",
    "        self.word_freq = self.WordsentenceFreqencies()\n",
    "        self.lexical_rank_score = None\n",
    "\n",
    "\n",
    "    def getOriginal_words(self):\n",
    "        return self.Original_word\n",
    "\n",
    "    def getlexical_rank_score(self):\n",
    "        return self.lexical_rank_score\n",
    "\n",
    "    def getname_of_doc(self):\n",
    "        return self.name_of_doc\n",
    "\n",
    "    def setlexical_rank_score(self, score):\n",
    "        self.lexical_rank_score = score\n",
    "\n",
    "    def get_stemmed_words(self):\n",
    "        return self.stemmed_words\n",
    "\n",
    "    def WordsentenceFreqencies(self):\n",
    "        wordFreqs = {}\n",
    "        for word in self.stemmed_words:\n",
    "            if word not in wordFreqs.keys():\n",
    "                wordFreqs[word] = 1\n",
    "            else:\n",
    "                wordFreqs[word] = wordFreqs[word] + 1\n",
    "        return wordFreqs\n",
    "\n",
    "    def getWordFreqencies(self):\n",
    "        return self.word_freq\n",
    "\n",
    "\n"
   ]
  },
  {
   "cell_type": "code",
   "execution_count": 2,
   "metadata": {
    "executionInfo": {
     "elapsed": 9,
     "status": "ok",
     "timestamp": 1665163494791,
     "user": {
      "displayName": "Aniket Yadav",
      "userId": "11965919448312311802"
     },
     "user_tz": -330
    },
    "id": "8cvmtiAowrxX"
   },
   "outputs": [],
   "source": [
    "# class Sentence(object):\n",
    "\n",
    "# \tdef __init__(self, docName, stemmedWords, OGwords):\n",
    "\n",
    "# \t\tself.stemmedWords = stemmedWords\n",
    "# \t\tself.docName = docName\n",
    "# \t\tself.OGwords = OGwords\n",
    "# \t\tself.wordFrequencies = self.sentenceWordFreqs()\n",
    "# \t\tself.lexRankScore = None\n",
    "\n",
    "# \tdef getStemmed(self):\n",
    "# \t\treturn self.stemmedWords\n",
    "\n",
    "# \tdef getDocName(self):\n",
    "# \t\treturn self.docName\n",
    "\n",
    "# \tdef getOGwords(self):\n",
    "# \t\treturn self.OGwords\n",
    "\n",
    "# \tdef getWordFreqs(self):\n",
    "# \t\treturn self.wordFrequencies\n",
    "\n",
    "# \tdef getLexRankScore(self):\n",
    "# \t\treturn self.LexRankScore\n",
    "\n",
    "# \tdef setLexRankScore(self, score):\n",
    "# \t\tself.LexRankScore = score\n",
    "\n",
    "# \tdef sentenceWordFreqs(self):\n",
    "# \t\twordFreqs = {}\n",
    "# \t\tfor word in self.stemmedWords:\n",
    "# \t\t\tif word not in wordFreqs.keys():\n",
    "# \t\t\t\twordFreqs[word] = 1\n",
    "# \t\t\telse:\n",
    "# \t\t\t\twordFreqs[word] = wordFreqs[word] + 1\n",
    "\n",
    "# \t\treturn wordFreqs"
   ]
  },
  {
   "cell_type": "code",
   "execution_count": null,
   "metadata": {
    "id": "lWWcPaIiemAL"
   },
   "outputs": [],
   "source": []
  },
  {
   "cell_type": "code",
   "execution_count": null,
   "metadata": {},
   "outputs": [],
   "source": []
  }
 ],
 "metadata": {
  "colab": {
   "authorship_tag": "ABX9TyPuqrdvoDtHcPRgtYv+N0O0",
   "collapsed_sections": [],
   "provenance": []
  },
  "kernelspec": {
   "display_name": "Python 3.10.6 64-bit",
   "language": "python",
   "name": "python3"
  },
  "language_info": {
   "codemirror_mode": {
    "name": "ipython",
    "version": 3
   },
   "file_extension": ".py",
   "mimetype": "text/x-python",
   "name": "python",
   "nbconvert_exporter": "python",
   "pygments_lexer": "ipython3",
   "version": "3.10.6"
  },
  "vscode": {
   "interpreter": {
    "hash": "916dbcbb3f70747c44a77c7bcd40155683ae19c65e1c03b4aa3499c5328201f1"
   }
  }
 },
 "nbformat": 4,
 "nbformat_minor": 1
}
